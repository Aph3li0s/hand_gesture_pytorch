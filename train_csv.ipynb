{
 "cells": [
  {
   "cell_type": "code",
   "execution_count": 8,
   "metadata": {
    "collapsed": true
   },
   "outputs": [
    {
     "name": "stdout",
     "output_type": "stream",
     "text": [
      "You are using GPU\n"
     ]
    }
   ],
   "source": [
    "import pandas as pd\n",
    "import torch\n",
    "import torch.nn as nn\n",
    "import torch.nn.functional as F\n",
    "import torch.optim as optim\n",
    "import torchvision\n",
    "import torchvision.transforms as transforms\n",
    "from torch.utils.data import Dataset, DataLoader\n",
    "from torch.utils.tensorboard import SummaryWriter\n",
    "from datetime import datetime\n",
    "\n",
    "\n",
    "if torch.cuda.is_available():\n",
    "    device = torch.device(\"cuda\")\n",
    "    print(\"You are using GPU\")\n",
    "else:\n",
    "    print(\"You are using CPU\")"
   ]
  },
  {
   "cell_type": "code",
   "execution_count": 9,
   "outputs": [
    {
     "name": "stdout",
     "output_type": "stream",
     "text": [
      "4998\n"
     ]
    }
   ],
   "source": [
    "df = pd.read_csv('data_processing/landmark.csv')\n",
    "class ProcessData(Dataset):\n",
    "    def __init__(self, dataframe):\n",
    "        self.data = dataframe.iloc[:, 1:].values\n",
    "        self.labels = dataframe.iloc[:, 0].values\n",
    "\n",
    "    def __len__(self):\n",
    "        return len(self.data)\n",
    "\n",
    "    def __getitem__(self, idx):\n",
    "        sample = {\n",
    "            'data': torch.tensor(self.data[idx], dtype=torch.float32, device=device),\n",
    "            'label': torch.tensor(self.labels[idx], dtype=torch.long, device=device)\n",
    "        }\n",
    "        return sample\n",
    "\n",
    "keypoint_dataset = ProcessData(df)\n",
    "print(keypoint_dataset.__len__())"
   ],
   "metadata": {
    "collapsed": false
   }
  },
  {
   "cell_type": "code",
   "execution_count": 10,
   "outputs": [
    {
     "name": "stdout",
     "output_type": "stream",
     "text": [
      "Model's state_dict:\n",
      "fc1.weight \t torch.Size([40, 63])\n",
      "fc1.bias \t torch.Size([40])\n",
      "fc2.weight \t torch.Size([20, 40])\n",
      "fc2.bias \t torch.Size([20])\n",
      "fc3.weight \t torch.Size([10, 20])\n",
      "fc3.bias \t torch.Size([10])\n",
      "fc4.weight \t torch.Size([5, 10])\n",
      "fc4.bias \t torch.Size([5])\n"
     ]
    }
   ],
   "source": [
    "import model as m\n",
    "model = m.SimpleNN2().to(device)\n",
    "print(\"Model's state_dict:\")\n",
    "for param_tensor in model.state_dict():\n",
    "    print(param_tensor, \"\\t\", model.state_dict()[param_tensor].size())\n",
    "\n",
    "dataloader = DataLoader(keypoint_dataset, batch_size = 128, shuffle = True)\n",
    "\n",
    "criterion = nn.CrossEntropyLoss()\n",
    "optimizer = optim.Adam(model.parameters(), lr=0.001)"
   ],
   "metadata": {
    "collapsed": false
   }
  },
  {
   "cell_type": "code",
   "execution_count": 11,
   "outputs": [
    {
     "name": "stdout",
     "output_type": "stream",
     "text": [
      "Epoch [1/200], Loss: 1.6010\n",
      "Epoch [2/200], Loss: 1.4189\n",
      "Epoch [4/200], Loss: 1.2597\n",
      "Epoch [6/200], Loss: 1.1958\n",
      "Epoch [7/200], Loss: 0.9266\n",
      "Epoch [21/200], Loss: 0.9060\n",
      "Epoch [46/200], Loss: 0.9056\n",
      "Epoch [71/200], Loss: 0.9050\n",
      "Epoch [85/200], Loss: 0.9049\n",
      "Epoch [108/200], Loss: 0.9048\n",
      "Epoch [117/200], Loss: 0.9048\n",
      "Epoch [130/200], Loss: 0.9048\n"
     ]
    }
   ],
   "source": [
    "num_epochs = 200\n",
    "previous_loss = float('inf')  # Initialize with a high value\n",
    "\n",
    "for epoch in range(num_epochs):\n",
    "    for batch in dataloader:\n",
    "        inputs = batch['data']\n",
    "        labels = batch['label']\n",
    "\n",
    "        optimizer.zero_grad()\n",
    "\n",
    "        outputs = model(inputs)\n",
    "        loss = criterion(outputs, labels)\n",
    "        loss.backward()\n",
    "        optimizer.step()\n",
    "\n",
    "    if loss < previous_loss:\n",
    "        print(f'Epoch [{epoch+1}/{num_epochs}], Loss: {loss.item():.4f}')\n",
    "        previous_loss = loss  # Update the previous loss\n",
    "\n",
    "torch.save(model.state_dict(), \"models/model2.pth\")"
   ],
   "metadata": {
    "collapsed": false
   }
  },
  {
   "cell_type": "code",
   "execution_count": null,
   "outputs": [],
   "source": [],
   "metadata": {
    "collapsed": false
   }
  }
 ],
 "metadata": {
  "kernelspec": {
   "display_name": "Python 3",
   "language": "python",
   "name": "python3"
  },
  "language_info": {
   "codemirror_mode": {
    "name": "ipython",
    "version": 2
   },
   "file_extension": ".py",
   "mimetype": "text/x-python",
   "name": "python",
   "nbconvert_exporter": "python",
   "pygments_lexer": "ipython2",
   "version": "2.7.6"
  }
 },
 "nbformat": 4,
 "nbformat_minor": 0
}
