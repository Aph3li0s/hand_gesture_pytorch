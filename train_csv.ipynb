{
 "cells": [
  {
   "cell_type": "code",
   "execution_count": 1,
   "metadata": {
    "collapsed": true
   },
   "outputs": [
    {
     "name": "stdout",
     "output_type": "stream",
     "text": [
      "You are using GPU\n"
     ]
    }
   ],
   "source": [
    "import pandas as pd\n",
    "import torch\n",
    "import torch.nn as nn\n",
    "import torch.nn.functional as F\n",
    "import torch.optim as optim\n",
    "import torchvision\n",
    "import torchvision.transforms as transforms\n",
    "from torch.utils.data import Dataset, DataLoader\n",
    "from torch.utils.data import Dataset, random_split\n",
    "from torch.utils.tensorboard import SummaryWriter\n",
    "from datetime import datetime\n",
    "\n",
    "\n",
    "if torch.cuda.is_available():\n",
    "\n",
    "    device = torch.device(\"cuda\")\n",
    "    print(\"You are using GPU\")\n",
    "else:\n",
    "    print(\"You are using CPU\")"
   ]
  },
  {
   "cell_type": "code",
   "execution_count": 2,
   "outputs": [
    {
     "name": "stdout",
     "output_type": "stream",
     "text": [
      "Training dataset size: 1999\n",
      "Validation dataset size: 500\n"
     ]
    }
   ],
   "source": [
    "df = pd.read_csv('data_processing/csv_file/landmark_6_9_3.csv')\n",
    "\n",
    "# Define your PyTorch dataset class\n",
    "class ProcessData(Dataset):\n",
    "    def __init__(self, dataframe):\n",
    "        self.data = dataframe.iloc[:, 1:].values\n",
    "        self.labels = dataframe.iloc[:, 0].values\n",
    "\n",
    "    def __len__(self):\n",
    "        return len(self.data)\n",
    "\n",
    "    def __getitem__(self, idx):\n",
    "        sample = {\n",
    "            'data': torch.tensor(self.data[idx], dtype=torch.float32, device=device),\n",
    "            'label': torch.tensor(self.labels[idx], dtype=torch.long, device=device)\n",
    "        }\n",
    "        return sample\n",
    "\n",
    "keypoint_dataset = ProcessData(df)\n",
    "\n",
    "train_size = int(0.8 * len(keypoint_dataset))\n",
    "val_size = len(keypoint_dataset) - train_size\n",
    "\n",
    "train_dataset, val_dataset = random_split(keypoint_dataset, [train_size, val_size])\n",
    "\n",
    "batch_size = 128\n",
    "train_loader = DataLoader(train_dataset, batch_size=batch_size, shuffle=True)\n",
    "val_loader = DataLoader(val_dataset, batch_size=batch_size, shuffle=False)\n",
    "\n",
    "print(\"Training dataset size:\", len(train_dataset))\n",
    "print(\"Validation dataset size:\", len(val_dataset))"
   ],
   "metadata": {
    "collapsed": false
   }
  },
  {
   "cell_type": "code",
   "execution_count": 3,
   "outputs": [
    {
     "name": "stdout",
     "output_type": "stream",
     "text": [
      "Model's state_dict:\n",
      "fc1.weight \t torch.Size([63, 126])\n",
      "fc1.bias \t torch.Size([63])\n",
      "fc2.weight \t torch.Size([40, 63])\n",
      "fc2.bias \t torch.Size([40])\n",
      "fc3.weight \t torch.Size([20, 40])\n",
      "fc3.bias \t torch.Size([20])\n",
      "fc4.weight \t torch.Size([5, 20])\n",
      "fc4.bias \t torch.Size([5])\n"
     ]
    }
   ],
   "source": [
    "import model as m\n",
    "model = m.SimpleNN3().to(device)\n",
    "print(\"Model's state_dict:\")\n",
    "for param_tensor in model.state_dict():\n",
    "    print(param_tensor, \"\\t\", model.state_dict()[param_tensor].size())\n",
    "\n",
    "dataloader = DataLoader(keypoint_dataset, batch_size = 128, shuffle = True)\n",
    "\n",
    "criterion = nn.CrossEntropyLoss()\n",
    "optimizer = optim.Adam(model.parameters(), lr=0.001)"
   ],
   "metadata": {
    "collapsed": false
   }
  },
  {
   "cell_type": "code",
   "execution_count": 4,
   "outputs": [
    {
     "name": "stdout",
     "output_type": "stream",
     "text": [
      "Epoch [1/100], Training Loss: 1.5986\n",
      "Epoch [2/100], Training Loss: 1.5159\n",
      "Epoch [3/100], Training Loss: 1.4402\n",
      "Epoch [4/100], Training Loss: 1.2582\n",
      "Epoch [5/100], Training Loss: 1.1318\n",
      "Epoch [6/100], Training Loss: 1.0619\n",
      "Epoch [7/100], Training Loss: 1.0233\n",
      "Epoch [8/100], Training Loss: 1.0162\n",
      "Epoch [9/100], Training Loss: 0.9353\n",
      "Epoch [10/100], Training Loss: 0.9535\n",
      "Validation Loss: 0.9134, Training Accuracy: 95.80%, Validation Accuracy: 99.40%\n",
      "Epoch [11/100], Training Loss: 0.9062\n",
      "Epoch [12/100], Training Loss: 0.9588\n",
      "Epoch [13/100], Training Loss: 0.9493\n",
      "Epoch [14/100], Training Loss: 0.9441\n",
      "Epoch [15/100], Training Loss: 0.9305\n",
      "Epoch [16/100], Training Loss: 0.9175\n",
      "Epoch [17/100], Training Loss: 0.9383\n",
      "Epoch [18/100], Training Loss: 0.9188\n",
      "Epoch [19/100], Training Loss: 0.9265\n",
      "Epoch [20/100], Training Loss: 0.9332\n",
      "Validation Loss: 0.9110, Training Accuracy: 97.80%, Validation Accuracy: 99.40%\n",
      "Epoch [21/100], Training Loss: 0.9177\n",
      "Epoch [22/100], Training Loss: 0.9162\n",
      "Epoch [23/100], Training Loss: 0.9260\n",
      "Epoch [24/100], Training Loss: 0.9237\n",
      "Epoch [25/100], Training Loss: 0.9193\n",
      "Epoch [26/100], Training Loss: 0.9374\n",
      "Epoch [27/100], Training Loss: 0.9196\n",
      "Epoch [28/100], Training Loss: 0.9274\n",
      "Epoch [29/100], Training Loss: 0.9116\n",
      "Epoch [30/100], Training Loss: 0.9159\n",
      "Validation Loss: 0.9110, Training Accuracy: 97.95%, Validation Accuracy: 99.40%\n",
      "Epoch [31/100], Training Loss: 0.9049\n",
      "Epoch [32/100], Training Loss: 0.9403\n",
      "Epoch [33/100], Training Loss: 0.9309\n",
      "Epoch [34/100], Training Loss: 0.9119\n",
      "Epoch [35/100], Training Loss: 0.9197\n",
      "Epoch [36/100], Training Loss: 0.9155\n",
      "Epoch [37/100], Training Loss: 0.9215\n",
      "Epoch [38/100], Training Loss: 0.9101\n",
      "Epoch [39/100], Training Loss: 0.9090\n",
      "Epoch [40/100], Training Loss: 0.9224\n",
      "Validation Loss: 0.9111, Training Accuracy: 98.30%, Validation Accuracy: 99.40%\n",
      "Epoch [41/100], Training Loss: 0.9175\n",
      "Epoch [42/100], Training Loss: 0.9117\n",
      "Epoch [43/100], Training Loss: 0.9209\n",
      "Epoch [44/100], Training Loss: 0.9070\n",
      "Epoch [45/100], Training Loss: 0.9107\n",
      "Epoch [46/100], Training Loss: 0.9424\n",
      "Epoch [47/100], Training Loss: 0.9058\n",
      "Epoch [48/100], Training Loss: 0.9357\n",
      "Epoch [49/100], Training Loss: 0.9272\n",
      "Epoch [50/100], Training Loss: 0.9079\n",
      "Validation Loss: 0.9109, Training Accuracy: 98.70%, Validation Accuracy: 99.40%\n",
      "Epoch [51/100], Training Loss: 0.9048\n",
      "Epoch [52/100], Training Loss: 0.9077\n",
      "Epoch [53/100], Training Loss: 0.9181\n",
      "Epoch [54/100], Training Loss: 0.9061\n",
      "Epoch [55/100], Training Loss: 0.9166\n",
      "Epoch [56/100], Training Loss: 0.9199\n",
      "Epoch [57/100], Training Loss: 0.9404\n",
      "Epoch [58/100], Training Loss: 0.9258\n",
      "Epoch [59/100], Training Loss: 0.9326\n",
      "Epoch [60/100], Training Loss: 0.9164\n",
      "Validation Loss: 0.9109, Training Accuracy: 98.65%, Validation Accuracy: 99.40%\n",
      "Epoch [61/100], Training Loss: 0.9048\n",
      "Epoch [62/100], Training Loss: 0.9062\n",
      "Epoch [63/100], Training Loss: 0.9632\n",
      "Epoch [64/100], Training Loss: 0.9182\n",
      "Epoch [65/100], Training Loss: 0.9187\n",
      "Epoch [66/100], Training Loss: 0.9061\n",
      "Epoch [67/100], Training Loss: 0.9185\n",
      "Epoch [68/100], Training Loss: 0.9057\n",
      "Epoch [69/100], Training Loss: 0.9635\n",
      "Epoch [70/100], Training Loss: 0.9438\n",
      "Validation Loss: 0.9109, Training Accuracy: 98.05%, Validation Accuracy: 99.40%\n",
      "Epoch [71/100], Training Loss: 0.9048\n",
      "Epoch [72/100], Training Loss: 0.9160\n",
      "Epoch [73/100], Training Loss: 0.9052\n",
      "Epoch [74/100], Training Loss: 0.9051\n",
      "Epoch [75/100], Training Loss: 0.9307\n",
      "Epoch [76/100], Training Loss: 0.9101\n",
      "Epoch [77/100], Training Loss: 0.9203\n",
      "Epoch [78/100], Training Loss: 0.9453\n",
      "Epoch [79/100], Training Loss: 0.9133\n",
      "Epoch [80/100], Training Loss: 0.9184\n",
      "Validation Loss: 0.9109, Training Accuracy: 98.75%, Validation Accuracy: 99.40%\n",
      "Epoch [81/100], Training Loss: 0.9048\n",
      "Epoch [82/100], Training Loss: 0.9229\n",
      "Epoch [83/100], Training Loss: 0.9062\n",
      "Epoch [84/100], Training Loss: 0.9293\n",
      "Epoch [85/100], Training Loss: 0.9187\n",
      "Epoch [86/100], Training Loss: 0.9177\n",
      "Epoch [87/100], Training Loss: 0.9239\n",
      "Epoch [88/100], Training Loss: 0.9252\n",
      "Epoch [89/100], Training Loss: 0.9168\n",
      "Epoch [90/100], Training Loss: 0.9181\n",
      "Validation Loss: 0.9122, Training Accuracy: 98.50%, Validation Accuracy: 99.20%\n",
      "Epoch [91/100], Training Loss: 0.9048\n",
      "Epoch [92/100], Training Loss: 0.9335\n",
      "Epoch [93/100], Training Loss: 0.9296\n",
      "Epoch [94/100], Training Loss: 0.9274\n",
      "Epoch [95/100], Training Loss: 0.9185\n",
      "Epoch [96/100], Training Loss: 0.9175\n",
      "Epoch [97/100], Training Loss: 0.9100\n",
      "Epoch [98/100], Training Loss: 0.9179\n",
      "Epoch [99/100], Training Loss: 0.9072\n",
      "Epoch [100/100], Training Loss: 0.9064\n"
     ]
    }
   ],
   "source": [
    "num_epochs = 100\n",
    "previous_loss = float('inf')  # Initialize with a high value\n",
    "writer = SummaryWriter()\n",
    "val_loss = 0.0\n",
    "for epoch in range(num_epochs):\n",
    "    # Training loop\n",
    "    model.train()\n",
    "    total_correct = 0\n",
    "    total_samples = 0\n",
    "    if epoch != 0 and epoch % 10 == 0:\n",
    "        # Validation loop\n",
    "        model.eval()\n",
    "        val_loss = 0.0\n",
    "        val_total_correct = 0\n",
    "        val_total_samples = 0\n",
    "        with torch.no_grad():\n",
    "            for batch in val_loader:\n",
    "                inputs = batch['data']\n",
    "                labels = batch['label']\n",
    "\n",
    "                outputs = model(inputs)\n",
    "                val_loss += criterion(outputs, labels)\n",
    "\n",
    "                _, predicted = torch.max(outputs, 1)\n",
    "                val_total_samples += labels.size(0)\n",
    "                val_total_correct += (predicted == labels).sum().item()\n",
    "\n",
    "        val_loss /= len(val_loader)\n",
    "        val_accuracy = 100 * val_total_correct / val_total_samples\n",
    "        print(f'Validation Loss: {val_loss.item():.4f}, Training Accuracy: {train_accuracy:.2f}%, Validation Accuracy: {val_accuracy:.2f}%')\n",
    "        writer.add_scalar('Validation Loss', val_loss.item(), epoch)\n",
    "        writer.add_scalar('Validation Accuracy', val_accuracy, epoch)\n",
    "    for batch in train_loader:\n",
    "        inputs = batch['data']\n",
    "        labels = batch['label']\n",
    "\n",
    "        optimizer.zero_grad()\n",
    "        outputs = model(inputs)\n",
    "        loss = criterion(outputs, labels)\n",
    "        loss.backward()\n",
    "        optimizer.step()\n",
    "\n",
    "        _, predicted = torch.max(outputs, 1)\n",
    "        total_samples += labels.size(0)\n",
    "        total_correct += (predicted == labels).sum().item()\n",
    "\n",
    "    train_accuracy = 100 * total_correct / total_samples\n",
    "    print(f'Epoch [{epoch+1}/{num_epochs}], Training Loss: {loss.item():.4f}')\n",
    "\n",
    "    writer.add_scalar('Training Loss', loss.item(), epoch)\n",
    "    writer.add_scalar('Training Accuracy', train_accuracy, epoch)\n",
    "    if val_loss < previous_loss:\n",
    "        previous_loss = val_loss  # Update the previous loss\n",
    "\n",
    "# Save the trained model\n",
    "torch.save(model.state_dict(), \"models/6_9_4.pth\")"
   ],
   "metadata": {
    "collapsed": false
   }
  },
  {
   "cell_type": "markdown",
   "source": [
    "Run this in terminal to open tensorboard: tensorboard --logdir=runs\n"
   ],
   "metadata": {
    "collapsed": false
   }
  }
 ],
 "metadata": {
  "kernelspec": {
   "display_name": "Python 3",
   "language": "python",
   "name": "python3"
  },
  "language_info": {
   "codemirror_mode": {
    "name": "ipython",
    "version": 2
   },
   "file_extension": ".py",
   "mimetype": "text/x-python",
   "name": "python",
   "nbconvert_exporter": "python",
   "pygments_lexer": "ipython2",
   "version": "2.7.6"
  }
 },
 "nbformat": 4,
 "nbformat_minor": 0
}
